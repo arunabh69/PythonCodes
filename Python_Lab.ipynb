{
 "cells": [
  {
   "cell_type": "markdown",
   "metadata": {},
   "source": [
    "## Tuple "
   ]
  },
  {
   "cell_type": "code",
   "execution_count": 6,
   "metadata": {},
   "outputs": [
    {
     "name": "stdout",
     "output_type": "stream",
     "text": [
      "<class 'tuple'>\n",
      "a and string\n",
      "Tuple contains a single \"a\"\n",
      "['this', 'is', 'a', 'string', ' not a number']\n",
      "['this', 'is', 'a', 'string']\n",
      "4\n",
      "1\n"
     ]
    }
   ],
   "source": [
    "# Creating tuple with a single element\n",
    "tup_var = ('this is a string',)\n",
    "print(type(tup_var))\n",
    "\n",
    "# Accessing tuple\n",
    "tup_var2 = ('this', 'is', 'a', 'string')\n",
    "print(tup_var2[2] + ' and ' + tup_var2[-1])\n",
    "\n",
    "# Condition check in tuple'\n",
    "if 'a' in tup_var2:\n",
    "    print('Tuple contains a single \"a\"')\n",
    "\n",
    "# Adding and removing from tuple indirectly\n",
    "tup_to_list_var = list(tup_var2)\n",
    "tup_to_list_var.append(' not a number')\n",
    "tup_var2 = tup_to_list_var\n",
    "print(tup_var2)\n",
    "tup_to_list_var = list(tup_var2)\n",
    "tup_to_list_var.remove(' not a number')\n",
    "tup_var2 = tup_to_list_var\n",
    "print(tup_var2)\n",
    "\n",
    "# Number of elements in a tuple\n",
    "print(len(tup_var2))\n",
    "\n",
    "# Number of some element duplicate in tuple\n",
    "print(tup_var2.count('this')) "
   ]
  },
  {
   "cell_type": "markdown",
   "metadata": {},
   "source": [
    "## String"
   ]
  },
  {
   "cell_type": "code",
   "execution_count": 24,
   "metadata": {},
   "outputs": [
    {
     "name": "stdout",
     "output_type": "stream",
     "text": [
      "This is a string\n",
      "this is a string\n",
      "THIS IS A STRING\n",
      "16\n",
      "This is \n",
      "a string\n",
      "<class 'list'>\n",
      "['This', 'is', 'a', 'string']\n",
      "Knock Knock Who's there?\n",
      "I study 0 hours a day\n"
     ]
    }
   ],
   "source": [
    "# Creating string variable\n",
    "str = (\"This is a string\")\n",
    "print(str)\n",
    "\n",
    "# Upcasing and Downcasing\n",
    "print(str.lower())\n",
    "print(str.upper())\n",
    "\n",
    "# Length of string\n",
    "print(len(str))\n",
    "\n",
    "# Slicing a string\n",
    "print(str[:8])\n",
    "print(str[8:])\n",
    "\n",
    "# String split to list\n",
    "print(type(str.split(' ')))\n",
    "print(str.split(' '))\n",
    "\n",
    "# String concatenation\n",
    "str_one = \"Knock Knock\"\n",
    "str_two = \"Who's there?\"\n",
    "str = str_one + ' ' + str_two\n",
    "print(str)\n",
    "\n",
    "# Formating strings\n",
    "str = \"I study {0} hours a day\"\n",
    "print(str.format(10 - 10))\n"
   ]
  },
  {
   "cell_type": "markdown",
   "metadata": {},
   "source": [
    "## List"
   ]
  },
  {
   "cell_type": "code",
   "execution_count": 38,
   "metadata": {},
   "outputs": [
    {
     "name": "stdout",
     "output_type": "stream",
     "text": [
      "[45, 23, 44, 98, 1, 54, 60]\n",
      "7\n",
      "45 60 98\n",
      "[44, 98, 1]\n",
      "44 1 54 1\n",
      "[45, 23, 43, 98, 67, 34, 85, 54, 60]\n",
      "[45, 23, 43, 98, 67, 34, 85, 54, 60, 99, 43, 72, 81]\n",
      "[45, 98, 67, 34, 85, 54, 60, 43, 72, 81]\n",
      "98 67 85 54 60 72 81 \n",
      "\n",
      "[98, 67, 85, 60, 72, 81]\n",
      "[98, 85, 81, 72, 67, 60]\n",
      "[]\n"
     ]
    }
   ],
   "source": [
    "# Creating a list\n",
    "list_var = [45, 23, 44, 98, 1, 54, 60]\n",
    "print(list_var)\n",
    "\n",
    "# List length\n",
    "print(len(list_var))\n",
    "\n",
    "# Accessing and slicing list elements\n",
    "print(list_var[0], list_var[-1], list_var[3])\n",
    "print(list_var[2:5])\n",
    "\n",
    "# Change value at an index\n",
    "print(list_var[2], list_var[-3], list_var[-2], list_var[4])\n",
    "list_var[2] = 43\n",
    "list_var.insert(4, 67)\n",
    "list_var[-3:-2] = [34, 85]\n",
    "print(list_var)\n",
    "\n",
    "# Add and remove elements to a list\n",
    "list_var.append(99)\n",
    "list_var.extend([43, 72, 81])\n",
    "print(list_var)\n",
    "list_var.remove(99)\n",
    "list_var.pop(2)\n",
    "del list_var[1]\n",
    "print(list_var)\n",
    "\n",
    "# Loop in a list\n",
    "for i in list_var:\n",
    "    if i > 50:\n",
    "        print(i, end=' ')\n",
    "print('\\n')\n",
    "\n",
    "# List comprehension\n",
    "list_comp = [x for x in list_var if x >= 60]\n",
    "print(list_comp)\n",
    "\n",
    "# Sorting list\n",
    "list_comp.sort() # Ascending\n",
    "list_comp.sort(reverse=True) # Descending\n",
    "print(list_comp)\n",
    "\n",
    "# Clearing a list\n",
    "list_var.clear()\n",
    "print(list_var)"
   ]
  },
  {
   "cell_type": "markdown",
   "metadata": {},
   "source": [
    "## Lambda Function"
   ]
  },
  {
   "cell_type": "code",
   "execution_count": 51,
   "metadata": {},
   "outputs": [
    {
     "name": "stdout",
     "output_type": "stream",
     "text": [
      "32\n",
      "<class 'function'> <function <lambda> at 0x1105a93a0>\n",
      "[1, 4, 9, 16, 25, 36, 49, 64, 81, 100, 121, 144]\n"
     ]
    },
    {
     "data": {
      "text/plain": [
       "[64, 81, 100, 121, 144, 1, 4, 9, 16, 25, 36, 49]"
      ]
     },
     "execution_count": 51,
     "metadata": {},
     "output_type": "execute_result"
    }
   ],
   "source": [
    "# Creating a lambda \n",
    "lamb_var = lambda x, y : x**y\n",
    "print(lamb_var(2, 5))\n",
    "print(type(lamb_var), lamb_var)\n",
    "\n",
    "# Immediately invoked lambda\n",
    "(lambda x : x%2 and 'odd' or 'even') (5)\n",
    "\n",
    "# Integrating lambda with map\n",
    "lamb_square_nums = list(map(lambda x : x**2, [x for x in range(1, 13)]))\n",
    "print(lamb_square_nums)\n",
    "\n",
    "# Partitioning list based on some value\n",
    "sorted(lamb_square_nums, key=lambda x : x < 50)\n",
    "\n"
   ]
  }
 ],
 "metadata": {
  "interpreter": {
   "hash": "b0fa6594d8f4cbf19f97940f81e996739fb7646882a419484c72d19e05852a7e"
  },
  "kernelspec": {
   "display_name": "Python 3.9.7 64-bit",
   "name": "python3"
  },
  "language_info": {
   "codemirror_mode": {
    "name": "ipython",
    "version": 3
   },
   "file_extension": ".py",
   "mimetype": "text/x-python",
   "name": "python",
   "nbconvert_exporter": "python",
   "pygments_lexer": "ipython3",
   "version": "3.9.7"
  },
  "orig_nbformat": 4
 },
 "nbformat": 4,
 "nbformat_minor": 2
}
