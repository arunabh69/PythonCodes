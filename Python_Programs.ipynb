{
 "cells": [
  {
   "cell_type": "markdown",
   "metadata": {},
   "source": [
    "# Python programs\n",
    "Link - https://docs.google.com/spreadsheets/d/1AlPKwr1kC74VzLTKY5sKKUMR-eQjV96T/edit?usp=sharing&ouid=102276510528195413105&rtpof=true&sd=true"
   ]
  },
  {
   "cell_type": "markdown",
   "metadata": {},
   "source": [
    "## 1\tDisplay float number with 2 decimal places using print()\n"
   ]
  },
  {
   "cell_type": "code",
   "execution_count": 1,
   "metadata": {},
   "outputs": [
    {
     "name": "stdout",
     "output_type": "stream",
     "text": [
      "32.53\n"
     ]
    }
   ],
   "source": [
    "x = float(input(\"Enter a decimal number :\"))\n",
    "print ('%.2f'%x)"
   ]
  },
  {
   "cell_type": "markdown",
   "metadata": {},
   "source": [
    "## 2\tTakes two integer numbers and  return their product."
   ]
  },
  {
   "cell_type": "code",
   "execution_count": 2,
   "metadata": {},
   "outputs": [
    {
     "name": "stdout",
     "output_type": "stream",
     "text": [
      "30\n"
     ]
    }
   ],
   "source": [
    "n , m = (int(input(\"Enter first number : \")), int(input(\"Enter second number : \")))\n",
    "print(n*m)"
   ]
  },
  {
   "cell_type": "markdown",
   "metadata": {},
   "source": [
    "## 3\tWrite a Python program to get the volume of a sphere with radius 10."
   ]
  },
  {
   "cell_type": "code",
   "execution_count": 6,
   "metadata": {},
   "outputs": [
    {
     "name": "stdout",
     "output_type": "stream",
     "text": [
      "Volume of sphere is :  4188.790204786391\n"
     ]
    }
   ],
   "source": [
    "import math\n",
    "r = 10\n",
    "print(\"Volume of sphere is : \", (4/3)*math.pi*(r**3))"
   ]
  },
  {
   "cell_type": "markdown",
   "metadata": {},
   "source": [
    "## 4\tAccept two numbers from the user and multiply them together."
   ]
  },
  {
   "cell_type": "code",
   "execution_count": 7,
   "metadata": {},
   "outputs": [
    {
     "name": "stdout",
     "output_type": "stream",
     "text": [
      "42\n"
     ]
    }
   ],
   "source": [
    "n , m = (int(input(\"Enter first number : \")), int(input(\"Enter second number : \")))\n",
    "n = n*m\n",
    "print(n)"
   ]
  },
  {
   "cell_type": "markdown",
   "metadata": {},
   "source": [
    "## 5\tWrite a Python program that accepts an integer (a) and computes the value of a+aa+aaa."
   ]
  },
  {
   "cell_type": "code",
   "execution_count": 8,
   "metadata": {},
   "outputs": [
    {
     "name": "stdout",
     "output_type": "stream",
     "text": [
      "30.0\n"
     ]
    }
   ],
   "source": [
    "a = int(input())\n",
    "n = 3\n",
    "value = a*(n*(n+1))/2\n",
    "print(value)"
   ]
  },
  {
   "cell_type": "markdown",
   "metadata": {},
   "source": [
    "## 6\tWrite a Python program to calculate the length of a string"
   ]
  },
  {
   "cell_type": "code",
   "execution_count": 9,
   "metadata": {},
   "outputs": [
    {
     "name": "stdout",
     "output_type": "stream",
     "text": [
      "13\n"
     ]
    }
   ],
   "source": [
    "string = input(\"Enter a string\")\n",
    "print(len(string))"
   ]
  },
  {
   "cell_type": "markdown",
   "metadata": {},
   "source": [
    "## 7\tWrite a Python program to parse a string to Float & Integer"
   ]
  },
  {
   "cell_type": "code",
   "execution_count": 11,
   "metadata": {},
   "outputs": [
    {
     "name": "stdout",
     "output_type": "stream",
     "text": [
      "23 43.2345\n",
      "<class 'str'> <class 'str'>\n",
      "23 43.2345\n",
      "<class 'int'> <class 'float'>\n"
     ]
    }
   ],
   "source": [
    "inpt1 = input(\"Enter an integer : \")\n",
    "inpt2 = input(\"Enter a decimal : \")\n",
    "print(inpt1, inpt2)\n",
    "print(type(inpt1), type(inpt2))\n",
    "inpt1 = int(inpt1)\n",
    "inpt2 = float(inpt2)\n",
    "print(inpt1, inpt2)\n",
    "print(type(inpt1), type(inpt2))"
   ]
  },
  {
   "cell_type": "markdown",
   "metadata": {},
   "source": [
    "## 8\tGiven two integer numbers return their sum. If the sum is greater than 100, then return their product."
   ]
  },
  {
   "cell_type": "code",
   "execution_count": 12,
   "metadata": {},
   "outputs": [
    {
     "name": "stdout",
     "output_type": "stream",
     "text": [
      "82\n"
     ]
    }
   ],
   "source": [
    "n, m = int(input()), int(input())\n",
    "if n + m > 100:\n",
    "    print(n*m)\n",
    "else:\n",
    "    print(n+m)"
   ]
  },
  {
   "cell_type": "markdown",
   "metadata": {},
   "source": [
    "## 9\tWrite a Python program to calculate the sum of three given numbers, if the values are not - equal then return four times of their sum"
   ]
  },
  {
   "cell_type": "code",
   "execution_count": 15,
   "metadata": {},
   "outputs": [
    {
     "name": "stdout",
     "output_type": "stream",
     "text": [
      "33\n"
     ]
    }
   ],
   "source": [
    "n, m, o = int(input()), int(input()), int(input())\n",
    "nstr = str(n+m+o)\n",
    "snstr = sorted(nstr)\n",
    "if snstr[0] == snstr[-1]:\n",
    "    print(nstr)\n",
    "else:\n",
    "    print(int(nstr)*4)"
   ]
  },
  {
   "cell_type": "markdown",
   "metadata": {},
   "source": [
    "## 10\tA shop will give discount of 50% if the cost of purchased quantity is more than 10000. Ask user for quantity suppose, one unit will cost 100. Judge and print total cost for user."
   ]
  },
  {
   "cell_type": "code",
   "execution_count": 16,
   "metadata": {},
   "outputs": [
    {
     "name": "stdout",
     "output_type": "stream",
     "text": [
      "50000.0\n"
     ]
    }
   ],
   "source": [
    "cost = 100\n",
    "quant = int(input(\"Enter product quantity : \"))\n",
    "tot_cost = quant*cost\n",
    "if tot_cost > 10000:\n",
    "    print(tot_cost/2)\n",
    "else:\n",
    "    print(tot_cost)"
   ]
  },
  {
   "cell_type": "markdown",
   "metadata": {},
   "source": [
    "## 11\tTo check whether a number is divisible by 8 and 12 or not."
   ]
  },
  {
   "cell_type": "code",
   "execution_count": 19,
   "metadata": {},
   "outputs": [
    {
     "name": "stdout",
     "output_type": "stream",
     "text": [
      "Number is divisible by both 8 and 12\n"
     ]
    }
   ],
   "source": [
    "n = int(input(\"Enter a number : \"))\n",
    "if n != 0 and n%8 == 0 and n%12 == 0:\n",
    "    print(\"Number is divisible by both 8 and 12\")\n",
    "else:\n",
    "    print(\"Number is not divisible by  8 and/or 12\")"
   ]
  },
  {
   "cell_type": "markdown",
   "metadata": {},
   "source": [
    "## 12\tTo check whether a given number is even or odd."
   ]
  },
  {
   "cell_type": "code",
   "execution_count": 26,
   "metadata": {},
   "outputs": [
    {
     "name": "stdout",
     "output_type": "stream",
     "text": [
      "Odd\n"
     ]
    }
   ],
   "source": [
    "n = int(input())\n",
    "if n == 0:\n",
    "    print(\"Number is neither even nor odd\")\n",
    "elif n%2 == 1:\n",
    "    print(\"Odd\")\n",
    "else:\n",
    "    print(\"Even\")"
   ]
  },
  {
   "cell_type": "markdown",
   "metadata": {},
   "source": [
    "## 13 Write a program to input marks of five subjects Physics, Chemistry, Biology, Mathematics and Computer. Calculate percentage and grade according to following:\n",
    "\n",
    "Percentage >= 90% : Grade A\n",
    "\n",
    "Percentage >= 80% : Grade B\n",
    "\n",
    "Percentage >= 70% : Grade C\n",
    "\n",
    "Percentage >= 60% : Grade D\n",
    "\n",
    "Percentage >= 40% : Grade E\n",
    "\n",
    "Percentage < 40% : Grade F\n"
   ]
  },
  {
   "cell_type": "code",
   "execution_count": 31,
   "metadata": {},
   "outputs": [
    {
     "name": "stdout",
     "output_type": "stream",
     "text": [
      "Enter marks of Physics : Enter marks of Chemistry : Enter marks of Biology : Enter marks of Mathamatics : Enter marks of Computer : \n",
      "\n",
      "Grade E\n"
     ]
    }
   ],
   "source": [
    "marks = {}.fromkeys(['Physics', 'Chemistry', 'Biology', 'Mathamatics', 'Computer'])\n",
    "for i in marks:\n",
    "    print(\"Enter marks of\", i, end=' : ')\n",
    "    marks[i] = int(input())\n",
    "print('\\n')\n",
    "max_score = 500\n",
    "tot_score = 0\n",
    "for i in marks:\n",
    "    tot_score = tot_score + marks[i]\n",
    "if tot_score/max_score >= 0.9:\n",
    "    print(\"Grade A\")\n",
    "elif tot_score/max_score >= 0.8:\n",
    "    print(\"Grade B\")\n",
    "elif tot_score/max_score >= 0.7:\n",
    "    print(\"Grade C\")\n",
    "elif tot_score/max_score >= 0.6:\n",
    "    print(\"Grade D\")\n",
    "elif tot_score/max_score >= 0.4:\n",
    "    print(\"Grade E\")\n",
    "elif tot_score/max_score < 0.4:\n",
    "    print(\"Grade F\")"
   ]
  },
  {
   "cell_type": "markdown",
   "metadata": {},
   "source": [
    "## 14\tTake input of age of 3 people by user and determine oldest and youngest among them."
   ]
  },
  {
   "cell_type": "code",
   "execution_count": 35,
   "metadata": {},
   "outputs": [
    {
     "name": "stdout",
     "output_type": "stream",
     "text": [
      "First person is eldest\n",
      "Second person is the youngest\n"
     ]
    }
   ],
   "source": [
    "n, m, o = int(input(\"Enter age of first person\")), int(input(\"Enter age of second person\")), int(input(\"Enter age of third person\"))\n",
    "if n == m and m == o:\n",
    "    print(\"All are of same age\")\n",
    "elif (n >= m and n > o) or (n >= o and n > m):\n",
    "    print(\"First person is eldest\")\n",
    "    if m <= o:\n",
    "        print(\"Second person is the youngest\")\n",
    "    else:\n",
    "        print(\"Third person is the youngest\")\n",
    "elif (m >= n and m > o) or (m >= o and m > n):\n",
    "    print(\"Second person is eldest\")\n",
    "    if n < o:\n",
    "        print(\"First person is the youngest\")\n",
    "    else:\n",
    "        print(\"Third person is the youngest\")\n",
    "else:\n",
    "    print(\"Third person is eldest\")\n",
    "    if n < m:\n",
    "        print(\"First person is the youngest\")\n",
    "    else:\n",
    "        print(\"Second person is the youngest\")"
   ]
  },
  {
   "cell_type": "markdown",
   "metadata": {},
   "source": [
    "## 15 Write a program to input electricity unit charges and calculate total electricity bill according to the given condition:\n",
    "\n",
    "For first 50 units Rs. 0.50/unit\n",
    "\n",
    "For next 100 units Rs. 0.75/unit\n",
    "\n",
    "For next 100 units Rs. 1.20/unit\n",
    "\n",
    "For unit above 250 Rs. 1.50/unit\n",
    "\n",
    "An additional surcharge of 20% is added to the bill\n"
   ]
  },
  {
   "cell_type": "code",
   "execution_count": 37,
   "metadata": {},
   "outputs": [
    {
     "name": "stdout",
     "output_type": "stream",
     "text": [
      "120.0\n"
     ]
    }
   ],
   "source": [
    "units = int(input(\"Enter units of electricity consumed : \"))\n",
    "cost = 0\n",
    "if units > 0:\n",
    "    cost += (min(units, 50)*0.50)\n",
    "    units -= min(units, 50)\n",
    "if units > 0:\n",
    "    cost += (min(units, 100)*0.75)\n",
    "    units -= min(units, 100)\n",
    "if units > 0:\n",
    "    cost += (min(units, 100)*1.20)\n",
    "    units -= min(units, 100)\n",
    "cost += (units*1.5)\n",
    "cost += (cost*0.2)\n",
    "print(cost)"
   ]
  }
 ],
 "metadata": {
  "interpreter": {
   "hash": "b0fa6594d8f4cbf19f97940f81e996739fb7646882a419484c72d19e05852a7e"
  },
  "kernelspec": {
   "display_name": "Python 3.9.7 64-bit",
   "name": "python3"
  },
  "language_info": {
   "codemirror_mode": {
    "name": "ipython",
    "version": 3
   },
   "file_extension": ".py",
   "mimetype": "text/x-python",
   "name": "python",
   "nbconvert_exporter": "python",
   "pygments_lexer": "ipython3",
   "version": "3.9.7"
  },
  "orig_nbformat": 4
 },
 "nbformat": 4,
 "nbformat_minor": 2
}
